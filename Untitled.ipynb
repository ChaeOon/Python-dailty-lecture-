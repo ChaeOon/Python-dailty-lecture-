{
 "cells": [
  {
   "cell_type": "code",
   "execution_count": null,
   "id": "01d4eb40-942b-4362-ba37-0b2b13aea750",
   "metadata": {},
   "outputs": [],
   "source": [
    "import time \n",
    "#-시간측정-> 시작시간\n",
    "#시작 \n",
    "#실행\n",
    "#종료\n",
    "#시간측정-> 종료시간\n",
    "#종료시간-시작시간= 시간\n",
    "\n",
    "\n",
    "\n",
    "\n",
    "\n",
    "\n"
   ]
  }
 ],
 "metadata": {
  "kernelspec": {
   "display_name": "Python 3 (ipykernel)",
   "language": "python",
   "name": "python3"
  },
  "language_info": {
   "codemirror_mode": {
    "name": "ipython",
    "version": 3
   },
   "file_extension": ".py",
   "mimetype": "text/x-python",
   "name": "python",
   "nbconvert_exporter": "python",
   "pygments_lexer": "ipython3",
   "version": "3.10.9"
  }
 },
 "nbformat": 4,
 "nbformat_minor": 5
}
